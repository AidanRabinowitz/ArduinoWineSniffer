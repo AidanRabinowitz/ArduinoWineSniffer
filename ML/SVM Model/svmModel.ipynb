{
 "cells": [
  {
   "cell_type": "code",
   "execution_count": 20,
   "metadata": {},
   "outputs": [
    {
     "name": "stdout",
     "output_type": "stream",
     "text": [
      "../WineCSVs\\BlackTie0916.csv\n",
      "../WineCSVs\\MoscatoKWV0916.csv\n",
      "../WineCSVs\\MQSensorDataMoscatoKWV.csv\n",
      "../WineCSVs\\MQSensorDataTallHorse.csv\n",
      "../WineCSVs\\NamaquaCabSav0916.csv\n",
      "../WineCSVs\\OldMoscatoWine.csv\n",
      "../WineCSVs\\SilverMynSauvBlanc0917.csv\n",
      "../WineCSVs\\SixWineData.csv\n",
      "../WineCSVs\\Sophie0916.csv\n",
      "../WineCSVs\\TallHorse0916.csv\n",
      "../WineCSVs\\TrainCSV1309.csv\n"
     ]
    }
   ],
   "source": [
    "import numpy as np # linear algebra\n",
    "import pandas as pd # data processing, CSV file I/O (e.g. pd.read_csv)\n",
    "import matplotlib.pyplot as plt # for data visualization\n",
    "import seaborn as sns # for statistical data visualization\n",
    "%matplotlib inline\n",
    "\n",
    "# Input data files are available in the \"../input/\" directory.\n",
    "# For example, running this (by clicking run or pressing Shift+Enter) will list all files under the input directory\n",
    "\n",
    "import os\n",
    "for dirname, _, filenames in os.walk('../WineCSVs'):\n",
    "    for filename in filenames:\n",
    "        print(os.path.join(dirname, filename))\n",
    "\n",
    "# Any results you write to the current directory are saved as output."
   ]
  },
  {
   "cell_type": "code",
   "execution_count": 21,
   "metadata": {},
   "outputs": [],
   "source": [
    "import warnings\n",
    "\n",
    "warnings.filterwarnings('ignore')"
   ]
  },
  {
   "cell_type": "code",
   "execution_count": 22,
   "metadata": {},
   "outputs": [],
   "source": [
    "data = '../WineCSVs/SixWineData.csv'\n",
    "\n",
    "df = pd.read_csv(data)"
   ]
  },
  {
   "cell_type": "code",
   "execution_count": 23,
   "metadata": {},
   "outputs": [
    {
     "data": {
      "text/html": [
       "<div>\n",
       "<style scoped>\n",
       "    .dataframe tbody tr th:only-of-type {\n",
       "        vertical-align: middle;\n",
       "    }\n",
       "\n",
       "    .dataframe tbody tr th {\n",
       "        vertical-align: top;\n",
       "    }\n",
       "\n",
       "    .dataframe thead th {\n",
       "        text-align: right;\n",
       "    }\n",
       "</style>\n",
       "<table border=\"1\" class=\"dataframe\">\n",
       "  <thead>\n",
       "    <tr style=\"text-align: right;\">\n",
       "      <th></th>\n",
       "      <th>yyyy-mm-dd timestamp</th>\n",
       "      <th>MQ6</th>\n",
       "      <th>MQ5</th>\n",
       "      <th>MQ4</th>\n",
       "      <th>MQ7</th>\n",
       "      <th>MQ3</th>\n",
       "      <th>MQ8</th>\n",
       "      <th>MQ2</th>\n",
       "      <th>MQ135</th>\n",
       "      <th>MQ9</th>\n",
       "      <th>BMPTemperature</th>\n",
       "      <th>Pressure(Pa)</th>\n",
       "      <th>DHTTemperature</th>\n",
       "      <th>Humidity</th>\n",
       "      <th>Target</th>\n",
       "    </tr>\n",
       "  </thead>\n",
       "  <tbody>\n",
       "    <tr>\n",
       "      <th>0</th>\n",
       "      <td>2024-09-16 15:38:24</td>\n",
       "      <td>648</td>\n",
       "      <td>862</td>\n",
       "      <td>817</td>\n",
       "      <td>416</td>\n",
       "      <td>940</td>\n",
       "      <td>757</td>\n",
       "      <td>682</td>\n",
       "      <td>681</td>\n",
       "      <td>723</td>\n",
       "      <td>35.92</td>\n",
       "      <td>83830.13</td>\n",
       "      <td>37.0</td>\n",
       "      <td>61.0</td>\n",
       "      <td>Sophie0916</td>\n",
       "    </tr>\n",
       "    <tr>\n",
       "      <th>1</th>\n",
       "      <td>2024-09-16 15:38:24</td>\n",
       "      <td>647</td>\n",
       "      <td>862</td>\n",
       "      <td>815</td>\n",
       "      <td>417</td>\n",
       "      <td>939</td>\n",
       "      <td>758</td>\n",
       "      <td>683</td>\n",
       "      <td>679</td>\n",
       "      <td>724</td>\n",
       "      <td>35.94</td>\n",
       "      <td>83587.56</td>\n",
       "      <td>37.0</td>\n",
       "      <td>61.0</td>\n",
       "      <td>Sophie0916</td>\n",
       "    </tr>\n",
       "    <tr>\n",
       "      <th>2</th>\n",
       "      <td>2024-09-16 15:38:25</td>\n",
       "      <td>646</td>\n",
       "      <td>863</td>\n",
       "      <td>815</td>\n",
       "      <td>419</td>\n",
       "      <td>939</td>\n",
       "      <td>759</td>\n",
       "      <td>682</td>\n",
       "      <td>677</td>\n",
       "      <td>725</td>\n",
       "      <td>35.95</td>\n",
       "      <td>83399.22</td>\n",
       "      <td>37.0</td>\n",
       "      <td>61.0</td>\n",
       "      <td>Sophie0916</td>\n",
       "    </tr>\n",
       "    <tr>\n",
       "      <th>3</th>\n",
       "      <td>2024-09-16 15:38:25</td>\n",
       "      <td>648</td>\n",
       "      <td>862</td>\n",
       "      <td>816</td>\n",
       "      <td>416</td>\n",
       "      <td>941</td>\n",
       "      <td>758</td>\n",
       "      <td>682</td>\n",
       "      <td>678</td>\n",
       "      <td>724</td>\n",
       "      <td>35.96</td>\n",
       "      <td>83237.08</td>\n",
       "      <td>37.0</td>\n",
       "      <td>61.0</td>\n",
       "      <td>Sophie0916</td>\n",
       "    </tr>\n",
       "    <tr>\n",
       "      <th>4</th>\n",
       "      <td>2024-09-16 15:38:26</td>\n",
       "      <td>648</td>\n",
       "      <td>860</td>\n",
       "      <td>815</td>\n",
       "      <td>418</td>\n",
       "      <td>939</td>\n",
       "      <td>757</td>\n",
       "      <td>680</td>\n",
       "      <td>675</td>\n",
       "      <td>724</td>\n",
       "      <td>35.96</td>\n",
       "      <td>83117.88</td>\n",
       "      <td>37.0</td>\n",
       "      <td>61.0</td>\n",
       "      <td>Sophie0916</td>\n",
       "    </tr>\n",
       "  </tbody>\n",
       "</table>\n",
       "</div>"
      ],
      "text/plain": [
       "  yyyy-mm-dd timestamp  MQ6  MQ5  MQ4  MQ7  MQ3  MQ8  MQ2  MQ135  MQ9  \\\n",
       "0  2024-09-16 15:38:24  648  862  817  416  940  757  682    681  723   \n",
       "1  2024-09-16 15:38:24  647  862  815  417  939  758  683    679  724   \n",
       "2  2024-09-16 15:38:25  646  863  815  419  939  759  682    677  725   \n",
       "3  2024-09-16 15:38:25  648  862  816  416  941  758  682    678  724   \n",
       "4  2024-09-16 15:38:26  648  860  815  418  939  757  680    675  724   \n",
       "\n",
       "   BMPTemperature Pressure(Pa)  DHTTemperature  Humidity      Target  \n",
       "0           35.92     83830.13            37.0      61.0  Sophie0916  \n",
       "1           35.94     83587.56            37.0      61.0  Sophie0916  \n",
       "2           35.95     83399.22            37.0      61.0  Sophie0916  \n",
       "3           35.96     83237.08            37.0      61.0  Sophie0916  \n",
       "4           35.96     83117.88            37.0      61.0  Sophie0916  "
      ]
     },
     "execution_count": 23,
     "metadata": {},
     "output_type": "execute_result"
    }
   ],
   "source": [
    "df.head()"
   ]
  },
  {
   "cell_type": "code",
   "execution_count": 24,
   "metadata": {},
   "outputs": [
    {
     "data": {
      "text/plain": [
       "Index(['yyyy-mm-dd timestamp', 'MQ6', 'MQ5', 'MQ4', 'MQ7', 'MQ3', 'MQ8', 'MQ2',\n",
       "       'MQ135', 'MQ9', 'BMPTemperature', 'Pressure(Pa)', 'DHTTemperature',\n",
       "       'Humidity', 'Target'],\n",
       "      dtype='object')"
      ]
     },
     "execution_count": 24,
     "metadata": {},
     "output_type": "execute_result"
    }
   ],
   "source": [
    "# view the column names of the dataframe\n",
    "\n",
    "col_names = df.columns\n",
    "\n",
    "col_names"
   ]
  },
  {
   "cell_type": "code",
   "execution_count": 25,
   "metadata": {},
   "outputs": [
    {
     "data": {
      "text/plain": [
       "Target\n",
       "Sophie0916            582\n",
       "MoscatoKWV1609        575\n",
       "SilverMynSauvBlanc    562\n",
       "BlackTie0916          557\n",
       "NamaquaCabSav0916     549\n",
       "TallHorse0916         543\n",
       "Name: count, dtype: int64"
      ]
     },
     "execution_count": 25,
     "metadata": {},
     "output_type": "execute_result"
    }
   ],
   "source": [
    "# check distribution of target_class column\n",
    "\n",
    "df['Target'].value_counts()"
   ]
  },
  {
   "cell_type": "code",
   "execution_count": 26,
   "metadata": {},
   "outputs": [
    {
     "data": {
      "text/plain": [
       "Target\n",
       "Sophie0916            0.172803\n",
       "MoscatoKWV1609        0.170724\n",
       "SilverMynSauvBlanc    0.166865\n",
       "BlackTie0916          0.165380\n",
       "NamaquaCabSav0916     0.163005\n",
       "TallHorse0916         0.161223\n",
       "Name: count, dtype: float64"
      ]
     },
     "execution_count": 26,
     "metadata": {},
     "output_type": "execute_result"
    }
   ],
   "source": [
    "# Ensure the 'Target' column is of string type (if it's not already)\n",
    "df['Target'] = df['Target'].astype(str)\n",
    "\n",
    "# View the percentage distribution of target_class column\n",
    "df['Target'].value_counts() / float(len(df))\n"
   ]
  },
  {
   "cell_type": "code",
   "execution_count": 27,
   "metadata": {},
   "outputs": [
    {
     "name": "stdout",
     "output_type": "stream",
     "text": [
      "<class 'pandas.core.frame.DataFrame'>\n",
      "RangeIndex: 3368 entries, 0 to 3367\n",
      "Data columns (total 15 columns):\n",
      " #   Column                Non-Null Count  Dtype  \n",
      "---  ------                --------------  -----  \n",
      " 0   yyyy-mm-dd timestamp  3368 non-null   object \n",
      " 1   MQ6                   3368 non-null   int64  \n",
      " 2   MQ5                   3368 non-null   int64  \n",
      " 3   MQ4                   3368 non-null   int64  \n",
      " 4   MQ7                   3368 non-null   int64  \n",
      " 5   MQ3                   3368 non-null   int64  \n",
      " 6   MQ8                   3368 non-null   int64  \n",
      " 7   MQ2                   3368 non-null   int64  \n",
      " 8   MQ135                 3368 non-null   int64  \n",
      " 9   MQ9                   3368 non-null   int64  \n",
      " 10  BMPTemperature        3368 non-null   float64\n",
      " 11  Pressure(Pa)          3368 non-null   object \n",
      " 12  DHTTemperature        3368 non-null   float64\n",
      " 13  Humidity              3368 non-null   float64\n",
      " 14  Target                3368 non-null   object \n",
      "dtypes: float64(3), int64(9), object(3)\n",
      "memory usage: 394.8+ KB\n"
     ]
    }
   ],
   "source": [
    "# view summary of dataset\n",
    "\n",
    "df.info()"
   ]
  },
  {
   "cell_type": "code",
   "execution_count": 28,
   "metadata": {},
   "outputs": [
    {
     "data": {
      "text/plain": [
       "yyyy-mm-dd timestamp    0\n",
       "MQ6                     0\n",
       "MQ5                     0\n",
       "MQ4                     0\n",
       "MQ7                     0\n",
       "MQ3                     0\n",
       "MQ8                     0\n",
       "MQ2                     0\n",
       "MQ135                   0\n",
       "MQ9                     0\n",
       "BMPTemperature          0\n",
       "Pressure(Pa)            0\n",
       "DHTTemperature          0\n",
       "Humidity                0\n",
       "Target                  0\n",
       "dtype: int64"
      ]
     },
     "execution_count": 28,
     "metadata": {},
     "output_type": "execute_result"
    }
   ],
   "source": [
    "# check for missing values in variables\n",
    "\n",
    "df.isnull().sum()"
   ]
  }
 ],
 "metadata": {
  "kernelspec": {
   "display_name": "base",
   "language": "python",
   "name": "python3"
  },
  "language_info": {
   "codemirror_mode": {
    "name": "ipython",
    "version": 3
   },
   "file_extension": ".py",
   "mimetype": "text/x-python",
   "name": "python",
   "nbconvert_exporter": "python",
   "pygments_lexer": "ipython3",
   "version": "3.11.7"
  }
 },
 "nbformat": 4,
 "nbformat_minor": 2
}
